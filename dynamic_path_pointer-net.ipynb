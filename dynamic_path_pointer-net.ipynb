{
  "nbformat": 4,
  "nbformat_minor": 0,
  "metadata": {
    "kernelspec": {
      "name": "python3",
      "display_name": "Python 3"
    },
    "language_info": {
      "codemirror_mode": {
        "name": "ipython",
        "version": 3
      },
      "file_extension": ".py",
      "mimetype": "text/x-python",
      "name": "python",
      "nbconvert_exporter": "python",
      "pygments_lexer": "ipython3",
      "version": "3.5.2"
    },
    "colab": {
      "name": "Dynamic_Path_PointerNet_TSP_FINAL.ipynb",
      "provenance": [],
      "collapsed_sections": [],
      "toc_visible": true,
      "machine_shape": "hm"
    },
    "accelerator": "TPU"
  },
  "cells": [
    {
      "cell_type": "code",
      "metadata": {
        "id": "xuf21gqhRgYh",
        "colab_type": "code",
        "colab": {}
      },
      "source": [
        "import numpy as np\n",
        "import pickle\n",
        "from itertools import permutations\n",
        "\n",
        "\n",
        "class PointMaker:\n",
        "    def __init__(self):\n",
        "        self.points = []\n",
        "        self.graph = []\n",
        "\n",
        "    def path_solve(self, d):           #solve tsp dynamically given an adjacency matrix\n",
        "\n",
        "        def memoize(f):                #memoize to generate path-cost dictionary\n",
        "            memo_dict = {}\n",
        "\n",
        "            def memo_func(*args):     \n",
        "                if args not in memo_dict:\n",
        "                    memo_dict[args] = f(*args)\n",
        "                return memo_dict[args]\n",
        "\n",
        "            memo_func.clear = lambda: memo_dict.clear()\n",
        "            return memo_func\n",
        "\n",
        "        @memoize\n",
        "        def rec_path_solve(c, ts):            #Go through the TSP dynamically\n",
        "            assert c not in ts\n",
        "            if ts:\n",
        "                vals = []\n",
        "                for lc in ts:\n",
        "                    aval = d[lc][c] + rec_path_solve(lc, ts - set([lc]))[0] #Recursion over the possible inputs \n",
        "                    vals.append((aval, lc))\n",
        "                if (vals == []):\n",
        "                    return (999, lc)\n",
        "                val = min(vals)\n",
        "                return val\n",
        "            else:\n",
        "                return (d[0][c], 0)\n",
        "\n",
        "        best_tour = []\n",
        "        c = 0\n",
        "        cs = frozenset(range(1, len(d)))        #Generate frozen set for possible inputs from the graph\n",
        "        while True:\n",
        "            l, lc = rec_path_solve(c, cs)\n",
        "            if lc == 0:\n",
        "                break\n",
        "            best_tour.append(lc)\n",
        "            c = lc\n",
        "            cs = cs - frozenset([lc])\n",
        "\n",
        "        best_tour = tuple(reversed(best_tour))\n",
        "\n",
        "        return best_tour\n",
        "\n",
        "    def get_paths(self, d, s, t):                   #Get optimum path cost from point s to t\n",
        "        opts = list(range(len(d)))\n",
        "        perms = set(permutations(opts))\n",
        "        minval = 999\n",
        "        min_path = []\n",
        "        flag = 1\n",
        "        for perm in perms:\n",
        "            sum_tour = 0\n",
        "\n",
        "            for i in range(len(perm) - 1):\n",
        "                sum_tour += d[perm[i]][perm[i + 1]]\n",
        "                if (sum_tour > minval):\n",
        "                    flag = 0\n",
        "                    break\n",
        "            if (flag):\n",
        "                sum_tour +=d[perm[-1]][t]\n",
        "                sum_tour += d[0][perm[s]]\n",
        "\n",
        "                if (sum_tour < minval):\n",
        "                    min_path = list(perm)\n",
        "                    minval = sum_tour\n",
        "            else:\n",
        "                continue\n",
        "        return min_path  # , minval    #Return the optimum path\n",
        "\n",
        "    def get_distance(self, point1, point2):       #Get the Eucledian distance from two coordinates\n",
        "        sums = 0\n",
        "        for x in range(len(point1)):\n",
        "            sums += ((point1[x] - point2[x]) ** 2)\n",
        "        distance = np.sqrt(sums)\n",
        "        return distance\n",
        "\n",
        "    def calculate_graph(self, points): #calculate the adjacency matrix given the points\n",
        "        adj_matrix = []\n",
        "        for i, point1 in enumerate(points):\n",
        "            row = []\n",
        "            for j, point2 in enumerate(points):\n",
        "                distance = self.get_distance(point1, point2)\n",
        "                row.append(distance)\n",
        "            adj_matrix.append(row)\n",
        "        return np.array(adj_matrix)\n",
        "\n",
        "\n",
        "    def generate_points(self, batch_size, number, size): #generate points and calculate paths from those points\n",
        "        batches = []\n",
        "        graphs = []\n",
        "        paths = []\n",
        "        for _ in range(batch_size):\n",
        "            points = np.random.rand(number, size)        # Generate random points \n",
        "            batches.append(np.array(points))          \n",
        "            graph = self.calculate_graph(points)         # calculate the adjacency matrices\n",
        "            graphs.append(graph)\n",
        "            path = list(self.get_paths(graph, 0, number-1)) #get the optimump aths from initial points to end points of the graph\n",
        "            paths.append(path)\n",
        "        return batches, paths\n",
        "\n",
        "\n"
      ],
      "execution_count": 0,
      "outputs": []
    },
    {
      "cell_type": "code",
      "metadata": {
        "id": "7S6htI_KN9EE",
        "colab_type": "code",
        "colab": {}
      },
      "source": [
        "!git clone https://github.com/aurelienbibaut/Actor_CriticPointer_Network-TSP.git"
      ],
      "execution_count": 0,
      "outputs": []
    },
    {
      "cell_type": "code",
      "metadata": {
        "id": "ADaPDoaNQkM1",
        "colab_type": "code",
        "colab": {}
      },
      "source": [
        "cd Actor_CriticPointer_Network-TSP/"
      ],
      "execution_count": 0,
      "outputs": []
    },
    {
      "cell_type": "code",
      "metadata": {
        "id": "5H97wmjZN2lc",
        "colab_type": "code",
        "colab": {}
      },
      "source": [
        "import tensorflow as tf\n",
        "import numpy as np\n",
        "import tsp_env\n",
        "hidden_size = 128\n",
        "embedding_size = 128\n",
        "max_time_steps = 5; input_size = 2;\n",
        "batch_size = 256\n",
        "initialization_stddev = 0.1"
      ],
      "execution_count": 0,
      "outputs": []
    },
    {
      "cell_type": "markdown",
      "metadata": {
        "id": "mP6TQYe7EJEv",
        "colab_type": "text"
      },
      "source": [
        "tf.placeholder - allocates memory of tensor for later use\n",
        "\n",
        "W_embed - initializes the weights of the size of inputs with normal randomization\n",
        "\n",
        "einsum does a matrix multiplication to embed the inputs like this:\n",
        "\n",
        "$einsum('ij,jk->ik', m0, m1)$    #output[i,k] = $sum_j m0[i,j] * m1[j, k]$\n"
      ]
    },
    {
      "cell_type": "code",
      "metadata": {
        "scrolled": false,
        "id": "z4lUl-byN2le",
        "colab_type": "code",
        "colab": {}
      },
      "source": [
        "enc_inputs = tf.placeholder(tf.float32, [batch_size, max_time_steps, input_size])\n",
        "W_embed = tf.Variable(tf.random_normal([embedding_size, input_size],\n",
        "                                       stddev=initialization_stddev))\n",
        "embedded_inputs = tf.einsum('kl,itl->itk', W_embed, enc_inputs)"
      ],
      "execution_count": 0,
      "outputs": []
    },
    {
      "cell_type": "markdown",
      "metadata": {
        "id": "IbFzIz5pKm2F",
        "colab_type": "text"
      },
      "source": [
        "#Encoding \n",
        "The Encoder takes the input sequence and maps it into a higher dimensional space (n-dimensional vector). That abstract vector is fed into the Decoder which turns it into an output sequence. The output sequence can be in another language, symbols, a copy of the input, etc."
      ]
    },
    {
      "cell_type": "code",
      "metadata": {
        "scrolled": false,
        "id": "5XA4qWoBN2lh",
        "colab_type": "code",
        "colab": {}
      },
      "source": [
        "with tf.variable_scope(\"encoder\"):\n",
        "    enc_rnn_cell = tf.nn.rnn_cell.LSTMCell(hidden_size)\n",
        "    enc_outputs, enc_final_state = tf.nn.dynamic_rnn(cell=enc_rnn_cell, \n",
        "                                                     inputs=embedded_inputs,\n",
        "                                                     dtype=tf.float32)"
      ],
      "execution_count": 0,
      "outputs": []
    },
    {
      "cell_type": "markdown",
      "metadata": {
        "id": "Zx7xuryjLAGz",
        "colab_type": "text"
      },
      "source": [
        "#Attention\n",
        "\n",
        "Attention for Pointer networks is uses so the decoder can look back and forwards in the input. Therefore, it has access to encoder states from each step, not just the last one.\n",
        "\n",
        "The mask is a preset distribution of weights"
      ]
    },
    {
      "cell_type": "code",
      "metadata": {
        "id": "d01uoKbZN2lj",
        "colab_type": "code",
        "colab": {}
      },
      "source": [
        "def attention_mask(W_ref, W_q, v, enc_outputs, query, already_played_actions=None, \n",
        "                   already_played_penalty=1e6):\n",
        "    with tf.variable_scope(\"attention_mask\"):\n",
        "        u_i0s = tf.einsum('kl,itl->itk', W_ref, enc_outputs)\n",
        "        u_i1s = tf.expand_dims(tf.einsum('kl,il->ik', W_q, query), 1)\n",
        "        u_is = tf.einsum('k,itk->it', v, tf.tanh(u_i0s + u_i1s)) - already_played_penalty * already_played_actions\n",
        "        return u_is, tf.nn.softmax(u_is)"
      ],
      "execution_count": 0,
      "outputs": []
    },
    {
      "cell_type": "markdown",
      "metadata": {
        "id": "wUC4-bTcM59j",
        "colab_type": "text"
      },
      "source": [
        "#Decoding and Training\n",
        "\n"
      ]
    },
    {
      "cell_type": "code",
      "metadata": {
        "id": "DaQFUKRhN2ll",
        "colab_type": "code",
        "colab": {}
      },
      "source": [
        "with tf.variable_scope(\"decoder\"):\n",
        "    decoder_cell = tf.nn.rnn_cell.LSTMCell(hidden_size)  #set an LSTM as decoding cell\n",
        "    decoder_state = [enc_final_state]\n",
        "    first_decoder_input = tf.tile(tf.Variable(tf.random_normal([1, embedding_size]), #get input from Latent space\n",
        "                                      name='first_decoder_input'), [batch_size, 1])\n",
        "    \n",
        "    decoder_targets = tf.placeholder(dtype=tf.int32, shape=[batch_size, max_time_steps])  #get the training labels to compare LSTM outputs\n",
        "    \n",
        "    with tf.variable_scope(\"attention_weights\", reuse=True):\n",
        "        W_ref = tf.Variable(tf.random_normal([embedding_size, embedding_size], \n",
        "                                             stddev=initialization_stddev),\n",
        "                           name='W_ref')\n",
        "        W_q = tf.Variable(tf.random_normal([embedding_size, embedding_size],    \n",
        "                                           stddev=initialization_stddev),\n",
        "                         name='W_q')\n",
        "        v = tf.Variable(tf.random_normal([embedding_size], stddev=initialization_stddev),\n",
        "                        name='v')\n",
        "    \n",
        "    # Training chain\n",
        "    loss = 0\n",
        "    decoder_input = first_decoder_input\n",
        "    decoder_state = enc_final_state\n",
        "    already_played_actions = tf.zeros(shape=[batch_size, max_time_steps], dtype=tf.float32) # initialize states\n",
        "    decoder_inputs = [decoder_input]\n",
        "    for t in range(max_time_steps):\n",
        "        dec_cell_output, decoder_state = decoder_cell(inputs=decoder_input, \n",
        "                                          state=decoder_state)\n",
        "        attn_logits, _ = attention_mask(W_ref, W_q, v, enc_outputs, dec_cell_output,\n",
        "                                        already_played_actions=already_played_actions,\n",
        "                                        already_played_penalty=1e6)\n",
        "        loss += tf.reduce_sum(tf.nn.softmax_cross_entropy_with_logits(labels=tf.one_hot(decoder_targets[:, t],\n",
        "                                                                          depth=max_time_steps),\n",
        "                                                        logits=attn_logits))\n",
        "        loss_summary_sy = tf.summary.scalar('training_loss', loss)\n",
        "\n",
        "        # Teacher forcing of the next input\n",
        "        decoder_input = tf.einsum('itk,it->ik', embedded_inputs,\n",
        "                                  tf.one_hot(decoder_targets[:, t], depth=max_time_steps))\n",
        "        decoder_inputs.append(decoder_input)\n",
        "        already_played_actions += tf.one_hot(decoder_targets[:, t], depth=max_time_steps)\n",
        "    \n",
        "    # Inference chain\n",
        "    decoder_input = first_decoder_input\n",
        "    decoder_state = enc_final_state\n",
        "    decoder_outputs = []\n",
        "    already_played_actions = tf.zeros(shape=[batch_size, max_time_steps], dtype=tf.float32)\n",
        "    for t in range(max_time_steps):\n",
        "        dec_cell_output, decoder_state = decoder_cell(inputs=decoder_input,\n",
        "                                                      state=decoder_state)\n",
        "        _, attn_mask = attention_mask(W_ref, W_q, v, enc_outputs, dec_cell_output,\n",
        "                                      already_played_actions=already_played_actions,\n",
        "                                      already_played_penalty=1e6)\n",
        "        decoder_outputs.append(tf.argmax(attn_mask, axis=1))\n",
        "        decoder_input = tf.einsum('itk,it->ik', embedded_inputs, attn_mask)\n",
        "        already_played_actions += tf.one_hot(decoder_outputs[-1], depth=max_time_steps)"
      ],
      "execution_count": 0,
      "outputs": []
    },
    {
      "cell_type": "code",
      "metadata": {
        "id": "b0lHY3V0N2ln",
        "colab_type": "code",
        "colab": {}
      },
      "source": [
        "optimizer = tf.train.AdamOptimizer(1e-2) #use Adam optimizer with a learning rage of 0,001\n",
        "train_op = optimizer.minimize(loss)"
      ],
      "execution_count": 0,
      "outputs": []
    },
    {
      "cell_type": "code",
      "metadata": {
        "id": "XK4eb9KtN2ls",
        "colab_type": "code",
        "colab": {}
      },
      "source": [
        "sess = tf.InteractiveSession()\n",
        "tf.global_variables_initializer().run()\n",
        "log_files_name = 'PointerNet-TSP5'\n",
        "writer = tf.summary.FileWriter('/tmp/' + log_files_name, sess.graph) #Generate network summary"
      ],
      "execution_count": 0,
      "outputs": []
    },
    {
      "cell_type": "code",
      "metadata": {
        "scrolled": false,
        "id": "HaUsGnFUN2lu",
        "colab_type": "code",
        "colab": {
          "base_uri": "https://localhost:8080/",
          "height": 282
        },
        "outputId": "727a62a0-ab65-4ef5-f89d-7a5293b9b652"
      },
      "source": [
        "batch_size = 256\n",
        "n_cities = 5\n",
        "loss_vals = []\n",
        "mean_approx_ratios = []\n",
        "amax = 0\n",
        "\n",
        "\n",
        "# Train the network over 4000 epochs\n",
        "for i in range(4000):\n",
        "    inputs_batch, labels_batch = pts.generate_points(batch_size,n_cities,2)\n",
        "    #print(labels_batch)\n",
        "    loss_summary, loss_val, _ = sess.run([loss_summary_sy, loss, train_op], \n",
        "                                         feed_dict={enc_inputs: inputs_batch, \n",
        "                                                        decoder_targets: labels_batch})\n",
        "    loss_vals.append(loss_val)\n",
        "    \n",
        "    \n",
        "    \n",
        "    # Add training loss to tensorboard logs\n",
        "    if i % 1000 == 0:\n",
        "        writer.add_summary(loss_summary, i)\n",
        "        writer.flush()\n",
        "        print(\"Loss:\",loss_vals[-1])\n",
        "        \n",
        "    # Test accuracy\n",
        "    if i % 1000 == 0:\n",
        "        envs = []\n",
        "        inputs_list = []\n",
        "        optimal_rewards = []\n",
        "        optimal_tours = []\n",
        "        # Generate and initialize a batch of environments\n",
        "        inputs_batch, labels_batch = pts.generate_points(batch_size,n_cities,2)\n",
        "          \n",
        "        inputs_batch = np.array(inputs_batch)\n",
        "        # Use the PointerNet on this test batch and get its predictions\n",
        "        \n",
        "        predicted_outputs = np.array(sess.run(decoder_outputs, \n",
        "                                              feed_dict={enc_inputs: inputs_batch})).T\n",
        "        counts = 0\n",
        "        tots = 0\n",
        "        \n",
        "        for i in range(10):\n",
        "          print(\"P:\",predicted_outputs[i], \" R:\", labels_batch[i],end=' ')\n",
        "          if(np.all(predicted_outputs[i]==labels_batch[i])):\n",
        "            print(\"Y\")\n",
        "          else:\n",
        "            print(\"N\")\n",
        "        for i in range(batch_size):\n",
        "          if(np.all(predicted_outputs[i]==labels_batch[i])):\n",
        "            counts +=1\n",
        "          tots +=1\n",
        "        print(counts,tots,counts/tots, amax)\n",
        "        if(counts/tots > amax):\n",
        "          saver = tf.train.Saver()\n",
        "          saver.save(sess, 'path_final_model9sm.model')\n",
        "          amax= counts/tots\n",
        "          print(\"saved\",counts/tots)\n",
        "        \n",
        "\n",
        "# Plot the training losses\n",
        "import matplotlib.pyplot as plt\n",
        "%matplotlib inline\n",
        "plt.plot(loss_vals)\n"
      ],
      "execution_count": 13,
      "outputs": [
        {
          "output_type": "execute_result",
          "data": {
            "text/plain": [
              "[<matplotlib.lines.Line2D at 0x7f25f767b320>]"
            ]
          },
          "metadata": {
            "tags": []
          },
          "execution_count": 13
        },
        {
          "output_type": "display_data",
          "data": {
            "image/png": "[encoded data removed]",
            "text/plain": [
              "<Figure size 432x288 with 1 Axes>"
            ]
          },
          "metadata": {
            "tags": []
          }
        }
      ]
    },
    {
      "cell_type": "markdown",
      "metadata": {
        "id": "aXlvjFGWNlLL",
        "colab_type": "text"
      },
      "source": [
        "Loss over epoch plot"
      ]
    },
    {
      "cell_type": "code",
      "metadata": {
        "id": "Kcy6L6JxIblQ",
        "colab_type": "code",
        "colab": {}
      },
      "source": [
        "saver = tf.train.Saver()"
      ],
      "execution_count": 0,
      "outputs": []
    },
    {
      "cell_type": "code",
      "metadata": {
        "id": "boe0bHFPE4nK",
        "colab_type": "code",
        "colab": {}
      },
      "source": [
        "class DynamicTSP():\n",
        "  def __init__(self):\n",
        "    self.points = points\n",
        "    self.min_cost = 999\n",
        "\n",
        "  def path_cost(self,path,graph):\n",
        "    cost = 0\n",
        "    for i in range(len(path)-1):\n",
        "        cost+=graph[path[i]][path[i+1]]\n",
        "    return cost\n",
        "\n",
        "  def predict_cost(self,inputs_batch,graph):\n",
        "    inputs_batch = [inputs_batch]*128\n",
        "    inputs_batch = np.array(inputs_batch)\n",
        "    predicted_outputs = np.array(sess.run(decoder_outputs, feed_dict={enc_inputs: inputs_batch})).T[0]\n",
        "    cost = self.path_cost(predicted_outputs,graph)\n",
        "    return cost\n",
        "\n",
        "  def tsp_dp_solve(self,d): #Dynamic TSP solver\n",
        "      def memoize(f):\n",
        "          memo_dict = {}\n",
        "          def memo_func(*args):\n",
        "              if args not in memo_dict:\n",
        "                  memo_dict[args] = f(*args)\n",
        "              return memo_dict[args]\n",
        "          memo_func.clear = lambda: memo_dict.clear()\n",
        "          return memo_func\n",
        "\n",
        "      @memoize\n",
        "      def rec_tsp_solve(c, ts):\n",
        "          if ts:\n",
        "            vals = []\n",
        "            for lc in ts:\n",
        "              vals.append((d[lc][c] + rec_tsp_solve(lc, ts - set([lc]))[0], lc))\n",
        "            val = min(vals)\n",
        "            return val\n",
        "          else:\n",
        "            return (d[0][c], 0)\n",
        "\n",
        "      best_tour = []\n",
        "      c = 0\n",
        "      cs = frozenset(range(1, len(d)))\n",
        "      while True:\n",
        "          l, lc = rec_tsp_solve(c, cs)\n",
        "          if lc == 0:\n",
        "              break\n",
        "          best_tour.append(lc)\n",
        "          c = lc\n",
        "          cs = cs - frozenset([lc])\n",
        "\n",
        "      best_tour = tuple(reversed(best_tour))\n",
        "\n",
        "      return best_tour\n",
        "\n"
      ],
      "execution_count": 0,
      "outputs": []
    },
    {
      "cell_type": "code",
      "metadata": {
        "id": "BkWwqNkkq6EX",
        "colab_type": "code",
        "colab": {}
      },
      "source": [
        "class DynamicTSP2():\n",
        "  def __init__(self,points,graph):\n",
        "    self.points = points\n",
        "    self.pred_cities = 5\n",
        "    self.min_cost = 999\n",
        "    self.cts = 0\n",
        "    self.tots = 0\n",
        "\n",
        "  def path_cost(self,path,graph):\n",
        "    cost = 0\n",
        "    for i in range(len(path)-1):\n",
        "        cost+=graph[path[i]][path[i+1]]\n",
        "    return cost\n",
        "\n",
        "  def predict_cost(self,current,points,index,graph): # Predict the cost of the points\n",
        "    inputs_batch = points[index]\n",
        "    inputs_batch = [inputs_batch]*256\n",
        "    inputs_batch = np.array(inputs_batch)\n",
        "    #Generate prediction over 0 to n_cities\n",
        "    predicted_outputs = np.array(sess.run(decoder_outputs, feed_dict={enc_inputs: inputs_batch})).T[0]\n",
        "    pred_outs = []\n",
        "    #reindex the path\n",
        "    for x in predicted_outputs:\n",
        "      pred_outs.append(index[x])\n",
        "    #Get cost by joining the path\n",
        "    cost = self.path_cost(pred_outs,graph)+graph[current][pred_outs[0]]+graph[current][pred_outs[-1]]\n",
        "    return cost\n",
        "\n",
        "  def tsp_dp_solve2(self,d):\n",
        "        def memoize(f):             #memoize: generate path to cost map\n",
        "            memo_dict = {}\n",
        "            def memo_func(*args):\n",
        "                if args not in memo_dict:\n",
        "                    memo_dict[args] = f(*args)\n",
        "                return memo_dict[args]\n",
        "            memo_func.clear = lambda: memo_dict.clear()\n",
        "            return memo_func\n",
        "\n",
        "        @memoize\n",
        "        def rec_path_solve(c, ts):\n",
        "            assert c not in ts\n",
        "            if ts:\n",
        "                if (len(ts) == n_cities):\n",
        "                    points = np.array(self.points)\n",
        "                    indx = list(ts)\n",
        "                    cost = self.predict_cost(c,points,indx, graph) #Generate cost prediction\n",
        "                    first = list(ts)[0]\n",
        "                    if (self.min_cost >cost+d[first][c]):\n",
        "                      self.min_cost = cost+d[first][c]\n",
        "                vals = []\n",
        "                for lc in ts:\n",
        "                    aval = d[lc][c] + rec_path_solve(lc, ts - set([lc]))[0]\n",
        "                    self.tots +=1\n",
        "                    if (aval < self.min_cost):        #Bound the check cost\n",
        "                        self.cts+=1\n",
        "                        vals.append((aval, lc))\n",
        "                    \n",
        "                if (vals == []):\n",
        "                    return (999, lc)\n",
        "                val = min(vals)\n",
        "                return val\n",
        "            else:\n",
        "                return (d[0][c], 0)\n",
        "\n",
        "        best_tour = []\n",
        "        c = 0\n",
        "        cs = frozenset(range(1, len(d))) #Set the possible points\n",
        "        while True:\n",
        "            l, lc = rec_path_solve(c, cs)\n",
        "            if lc == 0:\n",
        "                break\n",
        "            best_tour.append(lc)\n",
        "            c = lc\n",
        "            cs = cs - frozenset([lc])\n",
        "        best_tour = tuple(reversed(best_tour))\n",
        "\n",
        "        return best_tour"
      ],
      "execution_count": 0,
      "outputs": []
    },
    {
      "cell_type": "code",
      "metadata": {
        "id": "UgJT279_R4mP",
        "colab_type": "code",
        "outputId": "cf23866a-e6da-482b-8adc-b70cfd0bb2e5",
        "colab": {
          "base_uri": "https://localhost:8080/",
          "height": 306
        }
      },
      "source": [
        "import time \n",
        "t0 = time.time()\n",
        "datas = pts.generate_points(1,10,2)      #Generate points\n",
        "points = datas[0][0]\n",
        "graph = pts.calculate_graph(points)      #Calculate graphs\n",
        "print(datas)\n",
        "\n",
        "\n",
        "t1 = time.time()\n",
        "dtsp = DynamicTSP()                      #Test dynamic programming 1\n",
        "out_real = dtsp.tsp_dp_solve(graph)       \n",
        "print(out_real, dtsp.path_cost(out_real,graph))\n",
        "t2  = time.time()\n",
        "print(\"Dynamic algorithm time\",t2-t1) \n",
        "dtsp2 = DynamicTSP2(points,graph)        #Test dynamic programming 2\n",
        "out_pred = dtsp2.tsp_dp_solve2(graph)    \n",
        "print(out_pred,dtsp.path_cost(out_real,graph))\n",
        "t3 = time.time()\n",
        "print(\"Dynamic algorithm with neural network time\",t3-t2)\n",
        "print()\n",
        "print(\"Number of operations with predicted bound vs Number of operations without bound:\")\n",
        "print(\"                                  \",dtsp2.cts, \"      \",dtsp2.tots)"
      ],
      "execution_count": 32,
      "outputs": [
        {
          "output_type": "stream",
          "text": [
            "([array([[0.95659873, 0.15649118],\n",
            "       [0.73822391, 0.13313602],\n",
            "       [0.15325601, 0.35116317],\n",
            "       [0.60251944, 0.58686999],\n",
            "       [0.28976751, 0.80131566],\n",
            "       [0.06024383, 0.92342092],\n",
            "       [0.62939841, 0.38233842],\n",
            "       [0.66459971, 0.20725036],\n",
            "       [0.68337566, 0.12588178],\n",
            "       [0.15161645, 0.45579887]])], [[6, 3, 4, 5, 9, 2, 7, 8, 1]])\n",
            "(6, 3, 4, 5, 9, 2, 7, 8, 1) 2.096639125235892\n",
            "Dynamic algorithm time 0.018828630447387695\n",
            "(1, 2, 3, 4, 5, 6, 7, 8, 9) 2.096639125235892\n",
            "Dynamic algorithm with neural network time 8.760294675827026\n",
            "\n",
            "Number of operations with predicted bound vs Number of operations without bound:\n",
            "                                   2583        9225\n"
          ],
          "name": "stdout"
        }
      ]
    }
  ]
}